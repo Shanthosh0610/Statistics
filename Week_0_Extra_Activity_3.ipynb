{
  "nbformat": 4,
  "nbformat_minor": 0,
  "metadata": {
    "colab": {
      "name": "Week 0: Extra Activity 3.ipynb",
      "provenance": [],
      "authorship_tag": "ABX9TyMRz/TS0ULaJPmWV+V2q/8x",
      "include_colab_link": true
    },
    "kernelspec": {
      "name": "python3",
      "display_name": "Python 3"
    },
    "language_info": {
      "name": "python"
    }
  },
  "cells": [
    {
      "cell_type": "markdown",
      "metadata": {
        "id": "view-in-github",
        "colab_type": "text"
      },
      "source": [
        "<a href=\"https://colab.research.google.com/github/Shanthosh0610/Test/blob/main/Week_0_Extra_Activity_3.ipynb\" target=\"_parent\"><img src=\"https://colab.research.google.com/assets/colab-badge.svg\" alt=\"Open In Colab\"/></a>"
      ]
    },
    {
      "cell_type": "markdown",
      "source": [
        "## **Function for Uniform Outcome**\n"
      ],
      "metadata": {
        "id": "qUzi9O_F4XCq"
      }
    },
    {
      "cell_type": "code",
      "source": [
        "import numpy as np\n",
        "\n",
        "def uniform(n,m):\n",
        "  return np.random.randint(1, n+1, size = m)\n"
      ],
      "metadata": {
        "colab": {
          "base_uri": "https://localhost:8080/"
        },
        "id": "JSK4Nd8340Qu",
        "outputId": "653c24c6-3c95-4e7a-89b2-29b2dc266c95"
      },
      "execution_count": 4,
      "outputs": [
        {
          "output_type": "stream",
          "name": "stdout",
          "text": [
            "[5 4 1]\n"
          ]
        }
      ]
    },
    {
      "cell_type": "markdown",
      "source": [
        "# **Selecting a number from [1,10]**\n",
        "Select a number once, 1 time, 10 times and 100 times"
      ],
      "metadata": {
        "id": "IS65sIcI6U_8"
      }
    },
    {
      "cell_type": "code",
      "source": [
        "print(uniform(10,1))\n",
        "print(uniform(10,10))\n",
        "print(uniform(10,100))"
      ],
      "metadata": {
        "colab": {
          "base_uri": "https://localhost:8080/"
        },
        "id": "wRH_Xd3m6nPa",
        "outputId": "4e9afa06-ac0b-4b5b-83c5-baa5b586a200"
      },
      "execution_count": 5,
      "outputs": [
        {
          "output_type": "stream",
          "name": "stdout",
          "text": [
            "[2]\n",
            "[ 6  5  2  5  9  7  7  3 10  7]\n",
            "[ 8  4  7  3 10 10  5 10  5  2  5  3  8  5  3  8  4  1  6  2  2  4  4  3\n",
            "  2  7  4  1  6  1  4  1  3  1  3  3 10  5  9  3 10  7  8  7  4  3  3  9\n",
            "  7  2  7  6  9  1  3  1  8  1  7  7  5  5  4  8 10  2  9  6  5  4  2  9\n",
            "  9  6  9  7  4  9  9  1  4  6  8 10  4 10  8  8  7  6  5  1  9 10  8  6\n",
            "  2  8  7  3]\n"
          ]
        }
      ]
    },
    {
      "cell_type": "markdown",
      "source": [
        "## Probability of Selecting a number from [1,10] - Monte Carlo simulation"
      ],
      "metadata": {
        "id": "WtYVzxDK7aJd"
      }
    },
    {
      "cell_type": "code",
      "source": [
        "\n",
        "count = 0   #variable for storing number of event occurence\n",
        "for i in range(10000): #repetitions\n",
        "  num = uniform(10,1)  #experiment\n",
        "  if num == 7: #Event : Selecting 7 from [1,10]\n",
        "    count = count + 1\n",
        "print('Probability estimate by Monte Carlo simulation:',count/10000)\n",
        "print(\"Theoretical Probability estimate: 0.1\") \n",
        "\n"
      ],
      "metadata": {
        "colab": {
          "base_uri": "https://localhost:8080/"
        },
        "id": "B0djO1OI7UjH",
        "outputId": "c4883a90-e81d-4692-e8d5-0e3ed826b3e2"
      },
      "execution_count": 14,
      "outputs": [
        {
          "output_type": "stream",
          "name": "stdout",
          "text": [
            "Probability estimate by Monte Carlo simulation: 0.0917\n",
            "Theoretical Probability estimate: 0.1\n"
          ]
        }
      ]
    }
  ]
}